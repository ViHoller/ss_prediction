{
 "cells": [
  {
   "cell_type": "code",
   "execution_count": 1,
   "metadata": {},
   "outputs": [],
   "source": [
    "import numpy as np\n",
    "import tensorflow as tf\n",
    "import keras\n",
    "from keras import Model, layers, activations"
   ]
  },
  {
   "cell_type": "code",
   "execution_count": 18,
   "metadata": {},
   "outputs": [],
   "source": [
    "all_aa = \"ARNDCEQGHILKMFPSTWYV\"\n",
    "aa_onehot_dict = dict()\n",
    "for i in range(20):\n",
    "    aa_onehot_dict[all_aa[i]] = i"
   ]
  },
  {
   "cell_type": "code",
   "execution_count": 7,
   "metadata": {},
   "outputs": [],
   "source": [
    "path = \"C:/Users/vinic/Downloads/data/training/\"\n",
    "x=[]\n",
    "y=[]\n",
    "\n",
    "\n",
    "def aa_onehot_encoding(seq): # add padding?\n",
    "    profile = []\n",
    "    for aa in seq:\n",
    "        encoded = np.zeroes((1,20))\n",
    "        encoded[aa_onehot_dict[aa]] = 1\n",
    "        profile.append(encoded)\n",
    "    return profile\n",
    "\n",
    "def parse_dssp(dssp_file):\n",
    "    with open(path+\"dssp/\"+dssp_file+\".dssp\", 'r') as file:\n",
    "        file.readline()\n",
    "        ss = file.readline().rstrip()\n",
    "\treturn ss\n",
    "\n",
    "\n",
    "def parse_pssm(pssm_filename):\n",
    "\tprofile = []\n",
    "\twith open(pssm_filename) as pssm:\n",
    "\t\tpssm_lines = pssm.readlines()\n",
    "\t\tfor line in pssm_lines[3:-6]:\n",
    "\t\t\tprofile_line = []\n",
    "\t\t\tfor n in line.rstrip().split()[22:-2]:\n",
    "\t\t\t\tprofile_line.append(float(n)/100)\n",
    "\t\t\tprofile.append(profile_line)\n",
    "\treturn profile\n",
    "\n",
    "def parse_fasta(file):\n",
    "    pass\n",
    "\n",
    "ss_map = {'C': 0, '-': 0 , 'H': 1, 'E': 2}\n",
    "\n",
    "def ss_onehot_encoding(ss_sequence):\n",
    "    ss_encoded = []\n",
    "    for struc in ss_sequence:\n",
    "        encoding = np.zeores((1,3))\n",
    "        encoding[ss_map[struc]] = 1\n",
    "        ss_encoded.append(encoding)\n",
    "    return ss_encoded"
   ]
  },
  {
   "cell_type": "code",
   "execution_count": null,
   "metadata": {},
   "outputs": [],
   "source": [
    "x_train = []\n",
    "y_train = []\n",
    "\n",
    "with open(path+\"list.txt\", 'r') as sample_file:\n",
    "    for line in sample_file:\n",
    "        "
   ]
  },
  {
   "cell_type": "code",
   "execution_count": null,
   "metadata": {},
   "outputs": [],
   "source": [
    "class InceptionNet(layers.Layer):\n",
    "    def __init__(self, input_dim, num_features):\n",
    "        super().__init__()\n",
    "        self.k = num_features\n",
    "\n",
    "    def call(self, inputs, layers, layer_size):\n",
    "        X = layers.Input(inputs.shape)\n",
    "        X_layers = []\n",
    "        for i in range(layers):\n",
    "            fs = i*2 + 1\n",
    "            X_layers.append(layers.conv1D(layer_size, filter=(1,fs)))\n",
    "        X = layers.concatenate(X_layers)\n",
    "        return activations.relu(X)\n",
    "\n",
    "\n",
    "inputs = layers.Input()\n",
    "X = inputs\n",
    "for i in range(3):\n",
    "    X = InceptionNet(X, 24, 8)\n",
    "output = layers.Dense(3, activation='softmax')\n",
    "\n",
    "model = Model(inputs=inputs, ouput=output)\n",
    "model.compile(loss='categorical_crossentropy',\n",
    "              optimizer=\"SGD\",\n",
    "              metrics=['accuracy'])\n",
    "history = model.fit(x_train, y_train,\n",
    "                    epochs=10,\n",
    "                    batch_size=128,\n",
    "                    validation_split=0.1)\n"
   ]
  },
  {
   "cell_type": "markdown",
   "metadata": {},
   "source": [
    "input:\n",
    "1. one hot encoded sequence\n",
    "2. PSSM\n",
    "\n",
    "Model:\n",
    "1D convolutional neural network\n",
    "\n",
    "output:\n",
    "multiclass classification - dense layer with relu activaiton - 3\n",
    "\n",
    "validation metric - accuray + model specific measures\n",
    "\n",
    "soruces:\n",
    "https://www.csbj.org/article/S2001-0370(22)00506-2/fulltext\n"
   ]
  }
 ],
 "metadata": {
  "kernelspec": {
   "display_name": "Python 3",
   "language": "python",
   "name": "python3"
  },
  "language_info": {
   "codemirror_mode": {
    "name": "ipython",
    "version": 3
   },
   "file_extension": ".py",
   "mimetype": "text/x-python",
   "name": "python",
   "nbconvert_exporter": "python",
   "pygments_lexer": "ipython3",
   "version": "3.11.2"
  }
 },
 "nbformat": 4,
 "nbformat_minor": 2
}
