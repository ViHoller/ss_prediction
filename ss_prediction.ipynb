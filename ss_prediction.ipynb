{
 "cells": [
  {
   "cell_type": "code",
   "execution_count": 3,
   "metadata": {},
   "outputs": [],
   "source": [
    "import numpy as np\n",
    "import tensorflow as tf\n",
    "import keras\n",
    "from keras import Model, layers, activations, losses"
   ]
  },
  {
   "cell_type": "code",
   "execution_count": 8,
   "metadata": {},
   "outputs": [],
   "source": [
    "all_aa = \"ARNDCEQGHILKMFPSTWYVX\"\n",
    "aa_onehot_dict = dict()\n",
    "for i, aa in enumerate(all_aa):\n",
    "    aa_onehot_dict[aa] = i"
   ]
  },
  {
   "cell_type": "code",
   "execution_count": 16,
   "metadata": {},
   "outputs": [],
   "source": [
    "path = \"C:/Users/vinicius/Downloads/data/training/\"\n",
    "\n",
    "def aa_onehot_encoding(seq):\n",
    "    profile = []\n",
    "    for aa in seq:\n",
    "        encoded = np.zeros(21)\n",
    "        encoded[aa_onehot_dict[aa]] = 1\n",
    "        profile.append(encoded)\n",
    "    while len(profile) != 800: # pad to 800\n",
    "        profile.append(np.zeros(21))\n",
    "    return profile\n",
    "\n",
    "def parse_dssp(dssp_file):\n",
    "    with open(path+\"dssp/\"+dssp_file+\".dssp\", 'r') as file:\n",
    "        file.readline()\n",
    "        ss = file.readline().rstrip()\n",
    "    return ss\n",
    "\n",
    "def parse_pssm(pssm_filename):\n",
    "    profile = []\n",
    "    seq = ''\n",
    "    with open(path+\"pssm/\"+pssm_filename+\".pssm\", 'r') as pssm:\n",
    "        pssm_lines = pssm.readlines()\n",
    "        for line in pssm_lines[3:-6]:\n",
    "            line = line.rstrip().split()\n",
    "            seq += line[1]\n",
    "            profile_line = []\n",
    "            for n in line[22:-2]:\n",
    "                profile_line.append(float(n)/100)\n",
    "            profile.append(profile_line)\n",
    "    while (len(profile) != 800):\n",
    "        profile.append(np.zeros(20))\n",
    "    return profile, seq\n",
    "\n",
    "\n",
    "def parse_fasta(file):\n",
    "    pass\n",
    "\n",
    "ss_map = {'C': 0, 'H': 1, 'E': 2}\n",
    "\n",
    "def ss_onehot_encoding(ss_sequence):\n",
    "    ss_encoded = []\n",
    "    for struc in ss_sequence:\n",
    "        encoding = np.zeros(3)\n",
    "        encoding[ss_map[struc]] = 1\n",
    "        ss_encoded.append(encoding)\n",
    "    while (len(ss_encoded) != 800):\n",
    "        ss_encoded.append(np.zeros(3))\n",
    "    return ss_encoded\n",
    "\n",
    "def get_data(file, encode_y=True): \n",
    "    x = []\n",
    "    y = []\n",
    "    with open(path+file, 'r') as sample_file: # add some stuff to check?\n",
    "        for line in sample_file:\n",
    "            line = line.rstrip()\n",
    "            pssm, sequence = parse_pssm(line)\n",
    "            sequence_hot = aa_onehot_encoding(sequence)\n",
    "            features = np.concatenate((sequence_hot, pssm), axis=1)\n",
    "            x.append(features)\n",
    "\n",
    "            dssp = parse_dssp(line).replace('-','C')\n",
    "            if encode_y:\n",
    "                dssp = ss_onehot_encoding(dssp)\n",
    "            \n",
    "            y.append(dssp)\n",
    "    return np.array(x), np.array(y)"
   ]
  },
  {
   "cell_type": "code",
   "execution_count": 17,
   "metadata": {},
   "outputs": [],
   "source": [
    "x_train, y_train = get_data('cv/train1.txt')"
   ]
  },
  {
   "cell_type": "code",
   "execution_count": 13,
   "metadata": {},
   "outputs": [],
   "source": [
    "class InceptionNet_naive(layers.Layer):\n",
    "    def __init__(self, num_features=2):\n",
    "        super().__init__()\n",
    "        self.k = num_features\n",
    "\n",
    "    def call(self, inputs, num_layers=3, layer_size=8):\n",
    "        X1 = layers.Conv2D(layer_size, kernel_size=(1), strides=1, padding='same')(inputs)\n",
    "        X2 = layers.Conv2D(layer_size, kernel_size=(3), strides=1, padding='same')(inputs)\n",
    "        X3 = layers.Conv2D(layer_size, kernel_size=(5), strides=1, padding='same')(X)\n",
    "        X = layers.concatenate((X1, X2, X3))\n",
    "\n",
    "        # X_layers = []\n",
    "        # for i in range(layers):\n",
    "        #     fs = i*2 + 1\n",
    "        #     X_layers.append(layers.conv1D(layer_size, filter=(1,fs)))\n",
    "        # X = layers.concatenate(X_layers)\n",
    "        return activations.relu(X)\n"
   ]
  },
  {
   "cell_type": "code",
   "execution_count": null,
   "metadata": {},
   "outputs": [],
   "source": [
    "x_train.shape"
   ]
  },
  {
   "cell_type": "code",
   "execution_count": 14,
   "metadata": {},
   "outputs": [
    {
     "name": "stdout",
     "output_type": "stream",
     "text": [
      "WARNING:tensorflow:From c:\\Users\\vinicius\\AppData\\Local\\Programs\\Python\\Python312\\Lib\\site-packages\\keras\\src\\backend\\tensorflow\\core.py:174: The name tf.placeholder is deprecated. Please use tf.compat.v1.placeholder instead.\n",
      "\n"
     ]
    },
    {
     "data": {
      "text/html": [
       "<pre style=\"white-space:pre;overflow-x:auto;line-height:normal;font-family:Menlo,'DejaVu Sans Mono',consolas,'Courier New',monospace\"><span style=\"font-weight: bold\">Model: \"functional_1\"</span>\n",
       "</pre>\n"
      ],
      "text/plain": [
       "\u001b[1mModel: \"functional_1\"\u001b[0m\n"
      ]
     },
     "metadata": {},
     "output_type": "display_data"
    },
    {
     "data": {
      "text/html": [
       "<pre style=\"white-space:pre;overflow-x:auto;line-height:normal;font-family:Menlo,'DejaVu Sans Mono',consolas,'Courier New',monospace\">┏━━━━━━━━━━━━━━━━━━━━━━━━━━━━━━━━━┳━━━━━━━━━━━━━━━━━━━━━━━━┳━━━━━━━━━━━━━━━┓\n",
       "┃<span style=\"font-weight: bold\"> Layer (type)                    </span>┃<span style=\"font-weight: bold\"> Output Shape           </span>┃<span style=\"font-weight: bold\">       Param # </span>┃\n",
       "┡━━━━━━━━━━━━━━━━━━━━━━━━━━━━━━━━━╇━━━━━━━━━━━━━━━━━━━━━━━━╇━━━━━━━━━━━━━━━┩\n",
       "│ input_layer (<span style=\"color: #0087ff; text-decoration-color: #0087ff\">InputLayer</span>)        │ (<span style=\"color: #00d7ff; text-decoration-color: #00d7ff\">None</span>, <span style=\"color: #00af00; text-decoration-color: #00af00\">800</span>, <span style=\"color: #00af00; text-decoration-color: #00af00\">41</span>)        │             <span style=\"color: #00af00; text-decoration-color: #00af00\">0</span> │\n",
       "├─────────────────────────────────┼────────────────────────┼───────────────┤\n",
       "│ inception_net_naive             │ (<span style=\"color: #00d7ff; text-decoration-color: #00d7ff\">None</span>, <span style=\"color: #00af00; text-decoration-color: #00af00\">800</span>, <span style=\"color: #00af00; text-decoration-color: #00af00\">123</span>)       │        <span style=\"color: #00af00; text-decoration-color: #00af00\">15,252</span> │\n",
       "│ (<span style=\"color: #0087ff; text-decoration-color: #0087ff\">InceptionNet_naive</span>)            │                        │               │\n",
       "├─────────────────────────────────┼────────────────────────┼───────────────┤\n",
       "│ inception_net_naive_1           │ (<span style=\"color: #00d7ff; text-decoration-color: #00d7ff\">None</span>, <span style=\"color: #00af00; text-decoration-color: #00af00\">800</span>, <span style=\"color: #00af00; text-decoration-color: #00af00\">123</span>)       │        <span style=\"color: #00af00; text-decoration-color: #00af00\">45,510</span> │\n",
       "│ (<span style=\"color: #0087ff; text-decoration-color: #0087ff\">InceptionNet_naive</span>)            │                        │               │\n",
       "├─────────────────────────────────┼────────────────────────┼───────────────┤\n",
       "│ inception_net_naive_2           │ (<span style=\"color: #00d7ff; text-decoration-color: #00d7ff\">None</span>, <span style=\"color: #00af00; text-decoration-color: #00af00\">800</span>, <span style=\"color: #00af00; text-decoration-color: #00af00\">123</span>)       │        <span style=\"color: #00af00; text-decoration-color: #00af00\">45,510</span> │\n",
       "│ (<span style=\"color: #0087ff; text-decoration-color: #0087ff\">InceptionNet_naive</span>)            │                        │               │\n",
       "├─────────────────────────────────┼────────────────────────┼───────────────┤\n",
       "│ dense (<span style=\"color: #0087ff; text-decoration-color: #0087ff\">Dense</span>)                   │ (<span style=\"color: #00d7ff; text-decoration-color: #00d7ff\">None</span>, <span style=\"color: #00af00; text-decoration-color: #00af00\">800</span>, <span style=\"color: #00af00; text-decoration-color: #00af00\">3</span>)         │           <span style=\"color: #00af00; text-decoration-color: #00af00\">372</span> │\n",
       "└─────────────────────────────────┴────────────────────────┴───────────────┘\n",
       "</pre>\n"
      ],
      "text/plain": [
       "┏━━━━━━━━━━━━━━━━━━━━━━━━━━━━━━━━━┳━━━━━━━━━━━━━━━━━━━━━━━━┳━━━━━━━━━━━━━━━┓\n",
       "┃\u001b[1m \u001b[0m\u001b[1mLayer (type)                   \u001b[0m\u001b[1m \u001b[0m┃\u001b[1m \u001b[0m\u001b[1mOutput Shape          \u001b[0m\u001b[1m \u001b[0m┃\u001b[1m \u001b[0m\u001b[1m      Param #\u001b[0m\u001b[1m \u001b[0m┃\n",
       "┡━━━━━━━━━━━━━━━━━━━━━━━━━━━━━━━━━╇━━━━━━━━━━━━━━━━━━━━━━━━╇━━━━━━━━━━━━━━━┩\n",
       "│ input_layer (\u001b[38;5;33mInputLayer\u001b[0m)        │ (\u001b[38;5;45mNone\u001b[0m, \u001b[38;5;34m800\u001b[0m, \u001b[38;5;34m41\u001b[0m)        │             \u001b[38;5;34m0\u001b[0m │\n",
       "├─────────────────────────────────┼────────────────────────┼───────────────┤\n",
       "│ inception_net_naive             │ (\u001b[38;5;45mNone\u001b[0m, \u001b[38;5;34m800\u001b[0m, \u001b[38;5;34m123\u001b[0m)       │        \u001b[38;5;34m15,252\u001b[0m │\n",
       "│ (\u001b[38;5;33mInceptionNet_naive\u001b[0m)            │                        │               │\n",
       "├─────────────────────────────────┼────────────────────────┼───────────────┤\n",
       "│ inception_net_naive_1           │ (\u001b[38;5;45mNone\u001b[0m, \u001b[38;5;34m800\u001b[0m, \u001b[38;5;34m123\u001b[0m)       │        \u001b[38;5;34m45,510\u001b[0m │\n",
       "│ (\u001b[38;5;33mInceptionNet_naive\u001b[0m)            │                        │               │\n",
       "├─────────────────────────────────┼────────────────────────┼───────────────┤\n",
       "│ inception_net_naive_2           │ (\u001b[38;5;45mNone\u001b[0m, \u001b[38;5;34m800\u001b[0m, \u001b[38;5;34m123\u001b[0m)       │        \u001b[38;5;34m45,510\u001b[0m │\n",
       "│ (\u001b[38;5;33mInceptionNet_naive\u001b[0m)            │                        │               │\n",
       "├─────────────────────────────────┼────────────────────────┼───────────────┤\n",
       "│ dense (\u001b[38;5;33mDense\u001b[0m)                   │ (\u001b[38;5;45mNone\u001b[0m, \u001b[38;5;34m800\u001b[0m, \u001b[38;5;34m3\u001b[0m)         │           \u001b[38;5;34m372\u001b[0m │\n",
       "└─────────────────────────────────┴────────────────────────┴───────────────┘\n"
      ]
     },
     "metadata": {},
     "output_type": "display_data"
    },
    {
     "data": {
      "text/html": [
       "<pre style=\"white-space:pre;overflow-x:auto;line-height:normal;font-family:Menlo,'DejaVu Sans Mono',consolas,'Courier New',monospace\"><span style=\"font-weight: bold\"> Total params: </span><span style=\"color: #00af00; text-decoration-color: #00af00\">106,644</span> (416.58 KB)\n",
       "</pre>\n"
      ],
      "text/plain": [
       "\u001b[1m Total params: \u001b[0m\u001b[38;5;34m106,644\u001b[0m (416.58 KB)\n"
      ]
     },
     "metadata": {},
     "output_type": "display_data"
    },
    {
     "data": {
      "text/html": [
       "<pre style=\"white-space:pre;overflow-x:auto;line-height:normal;font-family:Menlo,'DejaVu Sans Mono',consolas,'Courier New',monospace\"><span style=\"font-weight: bold\"> Trainable params: </span><span style=\"color: #00af00; text-decoration-color: #00af00\">106,644</span> (416.58 KB)\n",
       "</pre>\n"
      ],
      "text/plain": [
       "\u001b[1m Trainable params: \u001b[0m\u001b[38;5;34m106,644\u001b[0m (416.58 KB)\n"
      ]
     },
     "metadata": {},
     "output_type": "display_data"
    },
    {
     "data": {
      "text/html": [
       "<pre style=\"white-space:pre;overflow-x:auto;line-height:normal;font-family:Menlo,'DejaVu Sans Mono',consolas,'Courier New',monospace\"><span style=\"font-weight: bold\"> Non-trainable params: </span><span style=\"color: #00af00; text-decoration-color: #00af00\">0</span> (0.00 B)\n",
       "</pre>\n"
      ],
      "text/plain": [
       "\u001b[1m Non-trainable params: \u001b[0m\u001b[38;5;34m0\u001b[0m (0.00 B)\n"
      ]
     },
     "metadata": {},
     "output_type": "display_data"
    }
   ],
   "source": [
    "class InceptionNet_naive(layers.Layer):\n",
    "    def __init__(self, num_features=41, num_layers=3, layer_size=8):\n",
    "        super().__init__()\n",
    "        self.k = num_features\n",
    "        self.num_l = num_layers\n",
    "        self.size_l = layer_size\n",
    "        self.conv1 = layers.Conv1D(self.k, kernel_size=1, strides=1, padding='same') # try with activation\n",
    "        self.conv2 = layers.Conv1D(self.k, kernel_size=3, strides=1, padding='same')\n",
    "        self.conv3 = layers.Conv1D(self.k, kernel_size=5, strides=1, padding='same')\n",
    "        \n",
    "\n",
    "    def call(self, inputs):\n",
    "        X1 = self.conv1(inputs)\n",
    "        X2 = self.conv2(inputs)\n",
    "        X3 = self.conv3(inputs)\n",
    "        X = layers.concatenate((X1, X2, X3))\n",
    "\n",
    "        return layers.Activation('relu')(X)\n",
    "num_labels = 3\n",
    "num_positions = 800\n",
    "\n",
    "inputs = layers.Input((800, 41))\n",
    "X = inputs\n",
    "# X = layers.Masking(mask_value=0)(X)\n",
    "for i in range(3):\n",
    "    X = InceptionNet_naive()(X)\n",
    "Y = layers.Dense(3, activation='softmax')(X)\n",
    "# Y = layers.Reshape((num_positions,num_labels))(Y)\n",
    "\n",
    "loss_fn = losses.CategoricalFocalCrossentropy()\n",
    "\n",
    "model = Model(inputs=inputs, outputs=Y)\n",
    "model.compile(loss=loss_fn, # try siome: \"categorical_focal_crossentropy, adam, sparse_categorical_crossentropy\n",
    "              optimizer=\"adam\",\n",
    "              metrics=['accuracy'])\n",
    "model.summary()"
   ]
  },
  {
   "cell_type": "code",
   "execution_count": 15,
   "metadata": {},
   "outputs": [
    {
     "name": "stdout",
     "output_type": "stream",
     "text": [
      "Epoch 1/10\n",
      "\u001b[1m7/7\u001b[0m \u001b[32m━━━━━━━━━━━━━━━━━━━━\u001b[0m\u001b[37m\u001b[0m \u001b[1m9s\u001b[0m 769ms/step - accuracy: 0.8796 - loss: 0.0239 - val_accuracy: 0.1273 - val_loss: 0.0259\n",
      "Epoch 2/10\n",
      "\u001b[1m7/7\u001b[0m \u001b[32m━━━━━━━━━━━━━━━━━━━━\u001b[0m\u001b[37m\u001b[0m \u001b[1m5s\u001b[0m 713ms/step - accuracy: 0.2511 - loss: 0.0219 - val_accuracy: 0.9014 - val_loss: 0.0223\n",
      "Epoch 3/10\n",
      "\u001b[1m7/7\u001b[0m \u001b[32m━━━━━━━━━━━━━━━━━━━━\u001b[0m\u001b[37m\u001b[0m \u001b[1m5s\u001b[0m 654ms/step - accuracy: 0.7437 - loss: 0.0183 - val_accuracy: 0.9133 - val_loss: 0.0201\n",
      "Epoch 4/10\n",
      "\u001b[1m7/7\u001b[0m \u001b[32m━━━━━━━━━━━━━━━━━━━━\u001b[0m\u001b[37m\u001b[0m \u001b[1m4s\u001b[0m 641ms/step - accuracy: 0.9274 - loss: 0.0168 - val_accuracy: 0.9196 - val_loss: 0.0189\n",
      "Epoch 5/10\n",
      "\u001b[1m7/7\u001b[0m \u001b[32m━━━━━━━━━━━━━━━━━━━━\u001b[0m\u001b[37m\u001b[0m \u001b[1m6s\u001b[0m 747ms/step - accuracy: 0.9291 - loss: 0.0168 - val_accuracy: 0.9227 - val_loss: 0.0185\n",
      "Epoch 6/10\n",
      "\u001b[1m7/7\u001b[0m \u001b[32m━━━━━━━━━━━━━━━━━━━━\u001b[0m\u001b[37m\u001b[0m \u001b[1m5s\u001b[0m 638ms/step - accuracy: 0.9323 - loss: 0.0161 - val_accuracy: 0.9264 - val_loss: 0.0178\n",
      "Epoch 7/10\n",
      "\u001b[1m7/7\u001b[0m \u001b[32m━━━━━━━━━━━━━━━━━━━━\u001b[0m\u001b[37m\u001b[0m \u001b[1m5s\u001b[0m 771ms/step - accuracy: 0.9336 - loss: 0.0159 - val_accuracy: 0.9280 - val_loss: 0.0175\n",
      "Epoch 8/10\n",
      "\u001b[1m7/7\u001b[0m \u001b[32m━━━━━━━━━━━━━━━━━━━━\u001b[0m\u001b[37m\u001b[0m \u001b[1m5s\u001b[0m 690ms/step - accuracy: 0.9346 - loss: 0.0158 - val_accuracy: 0.9289 - val_loss: 0.0173\n",
      "Epoch 9/10\n",
      "\u001b[1m7/7\u001b[0m \u001b[32m━━━━━━━━━━━━━━━━━━━━\u001b[0m\u001b[37m\u001b[0m \u001b[1m5s\u001b[0m 659ms/step - accuracy: 0.9365 - loss: 0.0152 - val_accuracy: 0.9301 - val_loss: 0.0172\n",
      "Epoch 10/10\n",
      "\u001b[1m7/7\u001b[0m \u001b[32m━━━━━━━━━━━━━━━━━━━━\u001b[0m\u001b[37m\u001b[0m \u001b[1m5s\u001b[0m 667ms/step - accuracy: 0.9406 - loss: 0.0144 - val_accuracy: 0.9292 - val_loss: 0.0171\n"
     ]
    }
   ],
   "source": [
    "history = model.fit(x_train, y_train,\n",
    "                    epochs=10,\n",
    "                    batch_size=128,\n",
    "                    validation_split=0.1)"
   ]
  },
  {
   "cell_type": "code",
   "execution_count": 10,
   "metadata": {},
   "outputs": [],
   "source": [
    "x_test, y_test = get_data('cv/test1.txt', encode_y=False)"
   ]
  },
  {
   "cell_type": "code",
   "execution_count": 25,
   "metadata": {},
   "outputs": [
    {
     "name": "stdout",
     "output_type": "stream",
     "text": [
      "\u001b[1m8/8\u001b[0m \u001b[32m━━━━━━━━━━━━━━━━━━━━\u001b[0m\u001b[37m\u001b[0m \u001b[1m0s\u001b[0m 43ms/step\n"
     ]
    }
   ],
   "source": [
    "ss_map = {'C': 0, 'H': 1, 'E': 2}\n",
    "from_aa = {0: '-', 1: 'H', 2: 'E'}\n",
    "predictions = model.predict(x_test)"
   ]
  },
  {
   "cell_type": "code",
   "execution_count": 26,
   "metadata": {},
   "outputs": [
    {
     "name": "stdout",
     "output_type": "stream",
     "text": [
      "[[[0.3390992  0.27493414 0.38596666]\n",
      "  [0.27472723 0.24978751 0.47548538]\n",
      "  [0.26043558 0.23897931 0.50058514]\n",
      "  ...\n",
      "  [0.40488154 0.2931451  0.30197334]\n",
      "  [0.3925489  0.3069762  0.30047497]\n",
      "  [0.37286958 0.32049984 0.30663064]]\n",
      "\n",
      " [[0.46454218 0.18135689 0.3541009 ]\n",
      "  [0.51027834 0.12536204 0.36435956]\n",
      "  [0.48334906 0.11182442 0.40482655]\n",
      "  ...\n",
      "  [0.40488154 0.2931451  0.30197334]\n",
      "  [0.3925489  0.3069762  0.30047497]\n",
      "  [0.37286958 0.32049984 0.30663064]]\n",
      "\n",
      " [[0.59053826 0.17190258 0.23755912]\n",
      "  [0.6190752  0.16275613 0.21816868]\n",
      "  [0.59574187 0.25193238 0.1523257 ]\n",
      "  ...\n",
      "  [0.40488154 0.2931451  0.30197334]\n",
      "  [0.3925489  0.3069762  0.30047497]\n",
      "  [0.37286958 0.32049984 0.30663064]]\n",
      "\n",
      " ...\n",
      "\n",
      " [[0.5236421  0.22716263 0.24919525]\n",
      "  [0.38879642 0.23500012 0.37620345]\n",
      "  [0.2704487  0.35954654 0.3700048 ]\n",
      "  ...\n",
      "  [0.40488154 0.2931451  0.30197334]\n",
      "  [0.3925489  0.3069762  0.30047497]\n",
      "  [0.37286958 0.32049984 0.30663064]]\n",
      "\n",
      " [[0.42188632 0.40742004 0.17069364]\n",
      "  [0.4506171  0.4099823  0.1394006 ]\n",
      "  [0.4000088  0.49541637 0.10457489]\n",
      "  ...\n",
      "  [0.40488154 0.2931451  0.30197334]\n",
      "  [0.3925489  0.3069762  0.30047497]\n",
      "  [0.37286958 0.32049984 0.30663064]]\n",
      "\n",
      " [[0.55154777 0.21353076 0.23492149]\n",
      "  [0.5532083  0.16610835 0.2806834 ]\n",
      "  [0.47296563 0.16459735 0.36243707]\n",
      "  ...\n",
      "  [0.40488154 0.2931451  0.30197334]\n",
      "  [0.3925489  0.3069762  0.30047497]\n",
      "  [0.37286958 0.32049984 0.30663064]]]\n"
     ]
    }
   ],
   "source": [
    "print(predictions)\n",
    "def decode"
   ]
  },
  {
   "cell_type": "markdown",
   "metadata": {},
   "source": [
    "input:\n",
    "1. one hot encoded sequence\n",
    "2. PSSM\n",
    "\n",
    "Model:\n",
    "1D convolutional neural network\n",
    "\n",
    "output:\n",
    "multiclass classification - dense layer with relu activaiton - 3?\n",
    "\n",
    "validation metric - accuray + model specific measures\n",
    "\n",
    "soruces:\n",
    "https://www.csbj.org/article/S2001-0370(22)00506-2/fulltext\n"
   ]
  }
 ],
 "metadata": {
  "kernelspec": {
   "display_name": "Python 3",
   "language": "python",
   "name": "python3"
  },
  "language_info": {
   "codemirror_mode": {
    "name": "ipython",
    "version": 3
   },
   "file_extension": ".py",
   "mimetype": "text/x-python",
   "name": "python",
   "nbconvert_exporter": "python",
   "pygments_lexer": "ipython3",
   "version": "3.12.1"
  }
 },
 "nbformat": 4,
 "nbformat_minor": 2
}
