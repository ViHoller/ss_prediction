{
 "cells": [
  {
   "cell_type": "code",
   "execution_count": 12,
   "metadata": {},
   "outputs": [],
   "source": [
    "import numpy as np\n",
    "import tensorflow as tf\n",
    "import keras\n",
    "from keras import Model, activations, layers, losses, optimizers, callbacks, regularizers\n",
    "from keras.layers import Dense, Convolution1D, Dropout, BatchNormalization, concatenate, TimeDistributed, Layer, Input\n",
    "import matplotlib.pyplot as plt\n",
    "# import ss_functions\n",
    "from ss_functions import *\n",
    "from ss_pred_classes import *"
   ]
  },
  {
   "cell_type": "code",
   "execution_count": 7,
   "metadata": {},
   "outputs": [],
   "source": [
    "x_data, y_data = get_data('list.txt')\n",
    "x_train, y_train = x_data[101:], y_data[101:]\n",
    "fff, y_data = get_data('list.txt', encode_y=False)\n",
    "x_test, y_test = x_data[:101], y_data[:101]"
   ]
  },
  {
   "cell_type": "code",
   "execution_count": 8,
   "metadata": {},
   "outputs": [
    {
     "ename": "NameError",
     "evalue": "name 'get_data2' is not defined",
     "output_type": "error",
     "traceback": [
      "\u001b[1;31m---------------------------------------------------------------------------\u001b[0m",
      "\u001b[1;31mNameError\u001b[0m                                 Traceback (most recent call last)",
      "Cell \u001b[1;32mIn[8], line 1\u001b[0m\n\u001b[1;32m----> 1\u001b[0m x_data1, y_data1 \u001b[38;5;241m=\u001b[39m \u001b[43mget_data2\u001b[49m(\u001b[38;5;124m'\u001b[39m\u001b[38;5;124mlist.txt\u001b[39m\u001b[38;5;124m'\u001b[39m)\n\u001b[0;32m      2\u001b[0m x_train1, x_train2 \u001b[38;5;241m=\u001b[39m np\u001b[38;5;241m.\u001b[39marray(x_data1[\u001b[38;5;241m0\u001b[39m][\u001b[38;5;241m101\u001b[39m:]), np\u001b[38;5;241m.\u001b[39marray(x_data1[\u001b[38;5;241m1\u001b[39m][\u001b[38;5;241m101\u001b[39m:])\n\u001b[0;32m      3\u001b[0m x_test1, x_test2 \u001b[38;5;241m=\u001b[39m np\u001b[38;5;241m.\u001b[39marray(x_data1[\u001b[38;5;241m0\u001b[39m][:\u001b[38;5;241m101\u001b[39m]), np\u001b[38;5;241m.\u001b[39marray(x_data1[\u001b[38;5;241m1\u001b[39m][:\u001b[38;5;241m101\u001b[39m])\n",
      "\u001b[1;31mNameError\u001b[0m: name 'get_data2' is not defined"
     ]
    }
   ],
   "source": [
    "x_data1, y_data1 = get_data2('list.txt')\n",
    "x_train1, x_train2 = np.array(x_data1[0][101:]), np.array(x_data1[1][101:])\n",
    "x_test1, x_test2 = np.array(x_data1[0][:101]), np.array(x_data1[1][:101])"
   ]
  },
  {
   "cell_type": "code",
   "execution_count": 18,
   "metadata": {},
   "outputs": [
    {
     "ename": "TypeError",
     "evalue": "Exception encountered when calling layer \"deep_inception_block_4\" (type DeepInception_block).\n\nin user code:\n\n\n    TypeError: tf____init__() takes 1 positional argument but 2 were given\n\n\nCall arguments received by layer \"deep_inception_block_4\" (type DeepInception_block):\n  • inputs=tf.Tensor(shape=(None, 800, 41), dtype=float32)",
     "output_type": "error",
     "traceback": [
      "\u001b[1;31m---------------------------------------------------------------------------\u001b[0m",
      "\u001b[1;31mTypeError\u001b[0m                                 Traceback (most recent call last)",
      "Cell \u001b[1;32mIn[18], line 6\u001b[0m\n\u001b[0;32m      3\u001b[0m block3 \u001b[38;5;241m=\u001b[39m DeepInception_block()\n\u001b[0;32m      5\u001b[0m inputs \u001b[38;5;241m=\u001b[39m layers\u001b[38;5;241m.\u001b[39mInput((\u001b[38;5;241m800\u001b[39m,\u001b[38;5;241m41\u001b[39m))\n\u001b[1;32m----> 6\u001b[0m X \u001b[38;5;241m=\u001b[39m \u001b[43mblock1\u001b[49m\u001b[43m(\u001b[49m\u001b[43minputs\u001b[49m\u001b[43m)\u001b[49m\n\u001b[0;32m      7\u001b[0m X \u001b[38;5;241m=\u001b[39m block2(X)\n\u001b[0;32m      8\u001b[0m X1 \u001b[38;5;241m=\u001b[39m Convolution1D(\u001b[38;5;241m100\u001b[39m, \u001b[38;5;241m11\u001b[39m, activation\u001b[38;5;241m=\u001b[39m\u001b[38;5;124m'\u001b[39m\u001b[38;5;124mrelu\u001b[39m\u001b[38;5;124m'\u001b[39m, padding\u001b[38;5;241m=\u001b[39m\u001b[38;5;124m'\u001b[39m\u001b[38;5;124msame\u001b[39m\u001b[38;5;124m'\u001b[39m, kernel_regularizer\u001b[38;5;241m=\u001b[39mregularizers\u001b[38;5;241m.\u001b[39ml2(\u001b[38;5;241m0.001\u001b[39m))(X)\n",
      "File \u001b[1;32mc:\\Users\\vinicius\\anaconda3\\envs\\tf\\lib\\site-packages\\keras\\utils\\traceback_utils.py:70\u001b[0m, in \u001b[0;36mfilter_traceback.<locals>.error_handler\u001b[1;34m(*args, **kwargs)\u001b[0m\n\u001b[0;32m     67\u001b[0m     filtered_tb \u001b[38;5;241m=\u001b[39m _process_traceback_frames(e\u001b[38;5;241m.\u001b[39m__traceback__)\n\u001b[0;32m     68\u001b[0m     \u001b[38;5;66;03m# To get the full stack trace, call:\u001b[39;00m\n\u001b[0;32m     69\u001b[0m     \u001b[38;5;66;03m# `tf.debugging.disable_traceback_filtering()`\u001b[39;00m\n\u001b[1;32m---> 70\u001b[0m     \u001b[38;5;28;01mraise\u001b[39;00m e\u001b[38;5;241m.\u001b[39mwith_traceback(filtered_tb) \u001b[38;5;28;01mfrom\u001b[39;00m \u001b[38;5;28;01mNone\u001b[39;00m\n\u001b[0;32m     71\u001b[0m \u001b[38;5;28;01mfinally\u001b[39;00m:\n\u001b[0;32m     72\u001b[0m     \u001b[38;5;28;01mdel\u001b[39;00m filtered_tb\n",
      "File \u001b[1;32mc:\\Users\\vinicius\\anaconda3\\envs\\tf\\lib\\site-packages\\tensorflow\\python\\autograph\\impl\\api.py:439\u001b[0m, in \u001b[0;36mconverted_call\u001b[1;34m(f, args, kwargs, caller_fn_scope, options)\u001b[0m\n\u001b[0;32m    437\u001b[0m \u001b[38;5;28;01mtry\u001b[39;00m:\n\u001b[0;32m    438\u001b[0m   \u001b[38;5;28;01mif\u001b[39;00m kwargs \u001b[38;5;129;01mis\u001b[39;00m \u001b[38;5;129;01mnot\u001b[39;00m \u001b[38;5;28;01mNone\u001b[39;00m:\n\u001b[1;32m--> 439\u001b[0m     result \u001b[38;5;241m=\u001b[39m converted_f(\u001b[38;5;241m*\u001b[39meffective_args, \u001b[38;5;241m*\u001b[39m\u001b[38;5;241m*\u001b[39mkwargs)\n\u001b[0;32m    440\u001b[0m   \u001b[38;5;28;01melse\u001b[39;00m:\n\u001b[0;32m    441\u001b[0m     result \u001b[38;5;241m=\u001b[39m converted_f(\u001b[38;5;241m*\u001b[39meffective_args)\n",
      "\u001b[1;31mTypeError\u001b[0m: Exception encountered when calling layer \"deep_inception_block_4\" (type DeepInception_block).\n\nin user code:\n\n\n    TypeError: tf____init__() takes 1 positional argument but 2 were given\n\n\nCall arguments received by layer \"deep_inception_block_4\" (type DeepInception_block):\n  • inputs=tf.Tensor(shape=(None, 800, 41), dtype=float32)"
     ]
    }
   ],
   "source": [
    "block1 = DeepInception_block()\n",
    "block2 = DeepInception_block()\n",
    "block3 = DeepInception_block()\n",
    "\n",
    "inputs = layers.Input((800,41))\n",
    "X = block1(inputs)\n",
    "X = block2(X)\n",
    "X1 = Convolution1D(100, 11, activation='relu', padding='same', kernel_regularizer=regularizers.l2(0.001))(X)\n",
    "X1 = TimeDistributed(Dense(256, activation='relu'))(X1)\n",
    "X1 = Dropout(0.5)(X1)\n",
    "\n",
    "Y2 = TimeDistributed(Dense(3, activation='softmax'))(X1)\n",
    "X = block3(X)\n",
    "\n",
    "# input1 = layers.Input((800,21))\n",
    "# input2 = layers.Input((800,20))\n",
    "# X1 = block1(input1)\n",
    "# X2 = block2(input2)\n",
    "\n",
    "# X = layers.concatenate([X1,X2])\n",
    "# X = DeepInception_block()(X)\n",
    "\n",
    "X = Convolution1D(100, 11, activation='relu', padding='same', kernel_regularizer=regularizers.l2(0.001))(X)\n",
    "X = TimeDistributed(Dense(256, activation='relu'))(X)\n",
    "X = Dropout(0.5)(X)\n",
    "\n",
    "Y1 = TimeDistributed(Dense(3, activation='softmax'))(X)\n",
    "\n",
    "model = Model(inputs=inputs, outputs=[Y1,Y2])\n",
    "\n",
    "opt = optimizers.Adam(learning_rate=0.005)\n",
    "model.compile(loss='categorical_crossentropy', # try siome: \"categorical_focal_crossentropy, adam, sparse_categorical_crossentropy\n",
    "              optimizer=opt,\n",
    "              metrics=[truncated_accuracy])\n",
    "\n",
    "stop_monitor_loss = callbacks.EarlyStopping(\n",
    "    monitor='val_loss',\n",
    "    min_delta=0,\n",
    "    patience=8,\n",
    "    mode='min',\n",
    "    verbose=1,\n",
    "    restore_best_weights=True\n",
    ")\n",
    "\n",
    "checkpoint = callbacks.ModelCheckpoint(\n",
    "    './ss_pred_modeltest9.keras',\n",
    "    monitor='val_truncated_accuracy',\n",
    "    save_best_only=True,\n",
    "    mode='max',\n",
    "    verbose=1\n",
    ")\n"
   ]
  },
  {
   "cell_type": "code",
   "execution_count": 16,
   "metadata": {},
   "outputs": [],
   "source": [
    "def get_model0():\n",
    "    inputs = Input((800, 41))\n",
    "    block1 = DeepInception_block()\n",
    "    X = block1(inputs)\n",
    "    X = DeepInception_block()(X)\n",
    "    X = DeepInception_block()(X)\n",
    "\n",
    "    X = Convolution1D(100, 11, activation='relu', padding='same', kernel_regularizer=regularizers.l2(0.001))(X)\n",
    "    X = TimeDistributed(Dense(256, activation='relu'))(X)\n",
    "    X = Dropout(0.4)(X)\n",
    "    Y = TimeDistributed(Dense(3, activation='softmax'))(X)\n",
    "    model = Model(inputs=inputs, outputs=Y)\n",
    "    return model"
   ]
  },
  {
   "cell_type": "code",
   "execution_count": 17,
   "metadata": {},
   "outputs": [
    {
     "ename": "TypeError",
     "evalue": "Exception encountered when calling layer \"deep_inception_block_3\" (type DeepInception_block).\n\nin user code:\n\n\n    TypeError: tf____init__() takes 1 positional argument but 2 were given\n\n\nCall arguments received by layer \"deep_inception_block_3\" (type DeepInception_block):\n  • inputs=tf.Tensor(shape=(None, 800, 41), dtype=float32)",
     "output_type": "error",
     "traceback": [
      "\u001b[1;31m---------------------------------------------------------------------------\u001b[0m",
      "\u001b[1;31mTypeError\u001b[0m                                 Traceback (most recent call last)",
      "Cell \u001b[1;32mIn[17], line 1\u001b[0m\n\u001b[1;32m----> 1\u001b[0m model0 \u001b[38;5;241m=\u001b[39m \u001b[43mget_model0\u001b[49m\u001b[43m(\u001b[49m\u001b[43m)\u001b[49m\n\u001b[0;32m      3\u001b[0m opt \u001b[38;5;241m=\u001b[39m optimizers\u001b[38;5;241m.\u001b[39mAdam(learning_rate\u001b[38;5;241m=\u001b[39m\u001b[38;5;241m0.005\u001b[39m)\n\u001b[0;32m      4\u001b[0m model\u001b[38;5;241m.\u001b[39mcompile(loss\u001b[38;5;241m=\u001b[39m\u001b[38;5;124m'\u001b[39m\u001b[38;5;124mcategorical_crossentropy\u001b[39m\u001b[38;5;124m'\u001b[39m, \u001b[38;5;66;03m# try siome: \"categorical_focal_crossentropy, adam, sparse_categorical_crossentropy\u001b[39;00m\n\u001b[0;32m      5\u001b[0m               optimizer\u001b[38;5;241m=\u001b[39mopt,\n\u001b[0;32m      6\u001b[0m               metrics\u001b[38;5;241m=\u001b[39m[truncated_accuracy])\n",
      "Cell \u001b[1;32mIn[16], line 4\u001b[0m, in \u001b[0;36mget_model0\u001b[1;34m()\u001b[0m\n\u001b[0;32m      2\u001b[0m inputs \u001b[38;5;241m=\u001b[39m Input((\u001b[38;5;241m800\u001b[39m, \u001b[38;5;241m41\u001b[39m))\n\u001b[0;32m      3\u001b[0m block1 \u001b[38;5;241m=\u001b[39m DeepInception_block()\n\u001b[1;32m----> 4\u001b[0m X \u001b[38;5;241m=\u001b[39m \u001b[43mblock1\u001b[49m\u001b[43m(\u001b[49m\u001b[43minputs\u001b[49m\u001b[43m)\u001b[49m\n\u001b[0;32m      5\u001b[0m X \u001b[38;5;241m=\u001b[39m DeepInception_block()(X)\n\u001b[0;32m      6\u001b[0m X \u001b[38;5;241m=\u001b[39m DeepInception_block()(X)\n",
      "File \u001b[1;32mc:\\Users\\vinicius\\anaconda3\\envs\\tf\\lib\\site-packages\\keras\\utils\\traceback_utils.py:70\u001b[0m, in \u001b[0;36mfilter_traceback.<locals>.error_handler\u001b[1;34m(*args, **kwargs)\u001b[0m\n\u001b[0;32m     67\u001b[0m     filtered_tb \u001b[38;5;241m=\u001b[39m _process_traceback_frames(e\u001b[38;5;241m.\u001b[39m__traceback__)\n\u001b[0;32m     68\u001b[0m     \u001b[38;5;66;03m# To get the full stack trace, call:\u001b[39;00m\n\u001b[0;32m     69\u001b[0m     \u001b[38;5;66;03m# `tf.debugging.disable_traceback_filtering()`\u001b[39;00m\n\u001b[1;32m---> 70\u001b[0m     \u001b[38;5;28;01mraise\u001b[39;00m e\u001b[38;5;241m.\u001b[39mwith_traceback(filtered_tb) \u001b[38;5;28;01mfrom\u001b[39;00m \u001b[38;5;28;01mNone\u001b[39;00m\n\u001b[0;32m     71\u001b[0m \u001b[38;5;28;01mfinally\u001b[39;00m:\n\u001b[0;32m     72\u001b[0m     \u001b[38;5;28;01mdel\u001b[39;00m filtered_tb\n",
      "File \u001b[1;32mc:\\Users\\vinicius\\anaconda3\\envs\\tf\\lib\\site-packages\\tensorflow\\python\\autograph\\impl\\api.py:439\u001b[0m, in \u001b[0;36mconverted_call\u001b[1;34m(f, args, kwargs, caller_fn_scope, options)\u001b[0m\n\u001b[0;32m    437\u001b[0m \u001b[38;5;28;01mtry\u001b[39;00m:\n\u001b[0;32m    438\u001b[0m   \u001b[38;5;28;01mif\u001b[39;00m kwargs \u001b[38;5;129;01mis\u001b[39;00m \u001b[38;5;129;01mnot\u001b[39;00m \u001b[38;5;28;01mNone\u001b[39;00m:\n\u001b[1;32m--> 439\u001b[0m     result \u001b[38;5;241m=\u001b[39m converted_f(\u001b[38;5;241m*\u001b[39meffective_args, \u001b[38;5;241m*\u001b[39m\u001b[38;5;241m*\u001b[39mkwargs)\n\u001b[0;32m    440\u001b[0m   \u001b[38;5;28;01melse\u001b[39;00m:\n\u001b[0;32m    441\u001b[0m     result \u001b[38;5;241m=\u001b[39m converted_f(\u001b[38;5;241m*\u001b[39meffective_args)\n",
      "\u001b[1;31mTypeError\u001b[0m: Exception encountered when calling layer \"deep_inception_block_3\" (type DeepInception_block).\n\nin user code:\n\n\n    TypeError: tf____init__() takes 1 positional argument but 2 were given\n\n\nCall arguments received by layer \"deep_inception_block_3\" (type DeepInception_block):\n  • inputs=tf.Tensor(shape=(None, 800, 41), dtype=float32)"
     ]
    }
   ],
   "source": [
    "model0 = get_model0()\n",
    "\n",
    "opt = optimizers.Adam(learning_rate=0.005)\n",
    "model.compile(loss='categorical_crossentropy', # try siome: \"categorical_focal_crossentropy, adam, sparse_categorical_crossentropy\n",
    "              optimizer=opt,\n",
    "              metrics=[truncated_accuracy])\n",
    "\n",
    "stop_monitor_loss = callbacks.EarlyStopping(\n",
    "    monitor='val_loss',\n",
    "    min_delta=0,\n",
    "    patience=8,\n",
    "    mode='min',\n",
    "    verbose=1,\n",
    "    restore_best_weights=True\n",
    ")\n",
    "\n",
    "checkpoint = callbacks.ModelCheckpoint(\n",
    "    './ss_pred_modeltest9.keras',\n",
    "    monitor='val_truncated_accuracy',\n",
    "    save_best_only=True,\n",
    "    mode='max',\n",
    "    verbose=1\n",
    ")"
   ]
  },
  {
   "cell_type": "code",
   "execution_count": null,
   "metadata": {},
   "outputs": [],
   "source": [
    "with tf.device('/GPU:1'):\n",
    "    history = model.fit(x_train, (y_train,y_train),\n",
    "                        epochs=60,\n",
    "                        batch_size=12,\n",
    "                        validation_split=0.1,\n",
    "                        callbacks=[stop_monitor_loss, checkpoint])\n",
    "    \n",
    "# 3rd block - negligeable improvement"
   ]
  },
  {
   "cell_type": "code",
   "execution_count": 5,
   "metadata": {},
   "outputs": [
    {
     "ename": "TypeError",
     "evalue": "__init__() got an unexpected keyword argument 'name'",
     "output_type": "error",
     "traceback": [
      "\u001b[1;31m---------------------------------------------------------------------------\u001b[0m",
      "\u001b[1;31mTypeError\u001b[0m                                 Traceback (most recent call last)",
      "Cell \u001b[1;32mIn[5], line 1\u001b[0m\n\u001b[1;32m----> 1\u001b[0m test_model \u001b[38;5;241m=\u001b[39m \u001b[43mkeras\u001b[49m\u001b[38;5;241;43m.\u001b[39;49m\u001b[43mmodels\u001b[49m\u001b[38;5;241;43m.\u001b[39;49m\u001b[43mload_model\u001b[49m\u001b[43m(\u001b[49m\u001b[38;5;124;43m'\u001b[39;49m\u001b[38;5;124;43mss_pred_modeltest9.keras\u001b[39;49m\u001b[38;5;124;43m'\u001b[39;49m\u001b[43m,\u001b[49m\u001b[43m \u001b[49m\n\u001b[0;32m      2\u001b[0m \u001b[43m                                     \u001b[49m\u001b[43mcustom_objects\u001b[49m\u001b[38;5;241;43m=\u001b[39;49m\u001b[43m{\u001b[49m\n\u001b[0;32m      3\u001b[0m \u001b[43m                                         \u001b[49m\u001b[38;5;124;43m'\u001b[39;49m\u001b[38;5;124;43minception_conv\u001b[39;49m\u001b[38;5;124;43m'\u001b[39;49m\u001b[43m:\u001b[49m\u001b[43m \u001b[49m\u001b[43minception_conv\u001b[49m\u001b[43m,\u001b[49m\n\u001b[0;32m      4\u001b[0m \u001b[43m                                         \u001b[49m\u001b[38;5;124;43m'\u001b[39;49m\u001b[38;5;124;43mInceptionNet_paper\u001b[39;49m\u001b[38;5;124;43m'\u001b[39;49m\u001b[43m:\u001b[49m\u001b[43m \u001b[49m\u001b[43mInceptionNet_paper\u001b[49m\u001b[43m,\u001b[49m\n\u001b[0;32m      5\u001b[0m \u001b[43m                                         \u001b[49m\u001b[38;5;124;43m'\u001b[39;49m\u001b[38;5;124;43mDeepInception_block\u001b[39;49m\u001b[38;5;124;43m'\u001b[39;49m\u001b[43m:\u001b[49m\u001b[43m \u001b[49m\u001b[43mDeepInception_block\u001b[49m\u001b[43m,\u001b[49m\n\u001b[0;32m      6\u001b[0m \u001b[43m                                         \u001b[49m\u001b[38;5;124;43m'\u001b[39;49m\u001b[38;5;124;43mtruncated_accuracy\u001b[39;49m\u001b[38;5;124;43m'\u001b[39;49m\u001b[43m:\u001b[49m\u001b[43m \u001b[49m\u001b[43mtruncated_accuracy\u001b[49m\n\u001b[0;32m      7\u001b[0m \u001b[43m                                     \u001b[49m\u001b[43m}\u001b[49m\u001b[43m)\u001b[49m\n",
      "File \u001b[1;32mc:\\Users\\vinicius\\anaconda3\\envs\\tf\\lib\\site-packages\\keras\\utils\\traceback_utils.py:70\u001b[0m, in \u001b[0;36mfilter_traceback.<locals>.error_handler\u001b[1;34m(*args, **kwargs)\u001b[0m\n\u001b[0;32m     67\u001b[0m     filtered_tb \u001b[38;5;241m=\u001b[39m _process_traceback_frames(e\u001b[38;5;241m.\u001b[39m__traceback__)\n\u001b[0;32m     68\u001b[0m     \u001b[38;5;66;03m# To get the full stack trace, call:\u001b[39;00m\n\u001b[0;32m     69\u001b[0m     \u001b[38;5;66;03m# `tf.debugging.disable_traceback_filtering()`\u001b[39;00m\n\u001b[1;32m---> 70\u001b[0m     \u001b[38;5;28;01mraise\u001b[39;00m e\u001b[38;5;241m.\u001b[39mwith_traceback(filtered_tb) \u001b[38;5;28;01mfrom\u001b[39;00m \u001b[38;5;28;01mNone\u001b[39;00m\n\u001b[0;32m     71\u001b[0m \u001b[38;5;28;01mfinally\u001b[39;00m:\n\u001b[0;32m     72\u001b[0m     \u001b[38;5;28;01mdel\u001b[39;00m filtered_tb\n",
      "File \u001b[1;32mc:\\Users\\vinicius\\anaconda3\\envs\\tf\\lib\\site-packages\\keras\\engine\\base_layer.py:828\u001b[0m, in \u001b[0;36mLayer.from_config\u001b[1;34m(cls, config)\u001b[0m\n\u001b[0;32m    812\u001b[0m \u001b[38;5;129m@classmethod\u001b[39m\n\u001b[0;32m    813\u001b[0m \u001b[38;5;28;01mdef\u001b[39;00m \u001b[38;5;21mfrom_config\u001b[39m(\u001b[38;5;28mcls\u001b[39m, config):\n\u001b[0;32m    814\u001b[0m \u001b[38;5;250m    \u001b[39m\u001b[38;5;124;03m\"\"\"Creates a layer from its config.\u001b[39;00m\n\u001b[0;32m    815\u001b[0m \n\u001b[0;32m    816\u001b[0m \u001b[38;5;124;03m    This method is the reverse of `get_config`,\u001b[39;00m\n\u001b[1;32m   (...)\u001b[0m\n\u001b[0;32m    826\u001b[0m \u001b[38;5;124;03m        A layer instance.\u001b[39;00m\n\u001b[0;32m    827\u001b[0m \u001b[38;5;124;03m    \"\"\"\u001b[39;00m\n\u001b[1;32m--> 828\u001b[0m     \u001b[38;5;28;01mreturn\u001b[39;00m \u001b[38;5;28mcls\u001b[39m(\u001b[38;5;241m*\u001b[39m\u001b[38;5;241m*\u001b[39mconfig)\n",
      "\u001b[1;31mTypeError\u001b[0m: __init__() got an unexpected keyword argument 'name'"
     ]
    }
   ],
   "source": [
    "test_model = keras.models.load_model('ss_pred_modeltest9.keras', \n",
    "                                     custom_objects={\n",
    "                                         'inception_conv': inception_conv,\n",
    "                                         'InceptionNet_paper': InceptionNet_paper,\n",
    "                                         'DeepInception_block': DeepInception_block,\n",
    "                                         'truncated_accuracy': truncated_accuracy\n",
    "                                     })"
   ]
  },
  {
   "cell_type": "code",
   "execution_count": null,
   "metadata": {},
   "outputs": [],
   "source": [
    "ss_map = {'C': 0, 'H': 1, 'E': 2}\n",
    "from_aa = {0: 'C', 1: 'H', 2: 'E'}\n",
    "_,predictions_hot = model.predict(x_test)\n",
    "predictions = []\n",
    "for prediction in predictions_hot:\n",
    "    dssp = ''\n",
    "    for i in prediction:\n",
    "        dssp += from_aa[np.argmax(i)]\n",
    "    predictions.append(dssp)\n",
    "\n",
    "total = 0\n",
    "TP = 0\n",
    "for prediction, truth in zip(predictions, y_test):\n",
    "    for i, ss in enumerate(truth):\n",
    "        total +=1\n",
    "        if ss==prediction[i]:\n",
    "            TP+=1\n",
    "\n",
    "accuracy = TP/total\n",
    "print(accuracy)"
   ]
  },
  {
   "cell_type": "markdown",
   "metadata": {},
   "source": [
    "input:\n",
    "1. one hot encoded sequence\n",
    "2. PSSM\n",
    "\n",
    "Model:\n",
    "1D convolutional neural network\n",
    "\n",
    "output:\n",
    "multiclass classification - dense layer with relu activaiton - 3?\n",
    "\n",
    "validation metric - accuray + model specific measures\n",
    "\n",
    "soruces:\n",
    "https://www.csbj.org/article/S2001-0370(22)00506-2/fulltext\n"
   ]
  }
 ],
 "metadata": {
  "kernelspec": {
   "display_name": "Python 3",
   "language": "python",
   "name": "python3"
  },
  "language_info": {
   "codemirror_mode": {
    "name": "ipython",
    "version": 3
   },
   "file_extension": ".py",
   "mimetype": "text/x-python",
   "name": "python",
   "nbconvert_exporter": "python",
   "pygments_lexer": "ipython3",
   "version": "3.9.18"
  }
 },
 "nbformat": 4,
 "nbformat_minor": 2
}
